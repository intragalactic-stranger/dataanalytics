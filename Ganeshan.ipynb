{
  "nbformat": 4,
  "nbformat_minor": 0,
  "metadata": {
    "colab": {
      "provenance": []
    },
    "kernelspec": {
      "name": "python3",
      "display_name": "Python 3"
    },
    "language_info": {
      "name": "python"
    }
  },
  "cells": [
    {
      "cell_type": "code",
      "execution_count": 2,
      "metadata": {
        "id": "6XNndeC9ZV_A"
      },
      "outputs": [],
      "source": [
        "# Step 1: Import Libraries\n",
        "import pandas as pd\n",
        "import numpy as np\n",
        "from sklearn.model_selection import train_test_split\n",
        "from sklearn.preprocessing import StandardScaler, OneHotEncoder\n",
        "from sklearn.compose import ColumnTransformer\n",
        "from sklearn.pipeline import Pipeline\n",
        "from sklearn.impute import SimpleImputer\n",
        "from sklearn.ensemble import RandomForestClassifier\n",
        "from sklearn.metrics import roc_auc_score\n",
        "from sklearn.multioutput import MultiOutputClassifier"
      ]
    },
    {
      "cell_type": "code",
      "source": [
        "#Step 2: Load Data\n",
        "train_features = pd.read_csv('/content/training_set_features.csv')\n",
        "train_labels = pd.read_csv('/content/training_set_labels.csv')\n",
        "test_features = pd.read_csv('/content/test_set_features.csv')\n",
        "submission_format = pd.read_csv('/content/submission_format.csv')"
      ],
      "metadata": {
        "id": "4eb9Zg3mZf8U"
      },
      "execution_count": 5,
      "outputs": []
    },
    {
      "cell_type": "code",
      "source": [
        "# Step 3: Preprocess Data\n",
        "# Merge the training features and labels\n",
        "train_data = train_features.merge(train_labels, on='respondent_id')\n",
        "\n",
        "# Separate features and target variables\n",
        "X = train_data.drop(columns=['respondent_id', 'xyz_vaccine', 'seasonal_vaccine'])\n",
        "y = train_data[['xyz_vaccine', 'seasonal_vaccine']]\n",
        "\n",
        "# Identify categorical and numerical columns\n",
        "categorical_cols = X.select_dtypes(include=['object']).columns\n",
        "numerical_cols = X.select_dtypes(exclude=['object']).columns\n",
        "\n",
        "# Preprocessing pipelines for both numerical and categorical data\n",
        "numerical_transformer = Pipeline(steps=[\n",
        "    ('imputer', SimpleImputer(strategy='mean')),\n",
        "    ('scaler', StandardScaler())\n",
        "])\n",
        "\n",
        "categorical_transformer = Pipeline(steps=[\n",
        "    ('imputer', SimpleImputer(strategy='most_frequent')),\n",
        "    ('onehot', OneHotEncoder(handle_unknown='ignore'))\n",
        "])\n",
        "\n",
        "# Bundle preprocessing for numerical and categorical data\n",
        "preprocessor = ColumnTransformer(\n",
        "    transformers=[\n",
        "        ('num', numerical_transformer, numerical_cols),\n",
        "        ('cat', categorical_transformer, categorical_cols)\n",
        "    ])"
      ],
      "metadata": {
        "id": "5YrOLSpTaXam"
      },
      "execution_count": 6,
      "outputs": []
    },
    {
      "cell_type": "code",
      "source": [
        "# Step 4: Train-Test Split\n",
        "X_train, X_val, y_train, y_val = train_test_split(X, y, test_size=0.2, random_state=42)\n"
      ],
      "metadata": {
        "id": "qeXHptqebx6E"
      },
      "execution_count": 7,
      "outputs": []
    },
    {
      "cell_type": "code",
      "source": [
        "# Step 5: Build the Model\n",
        "# RandomForestClassifier inside a MultiOutputClassifier to handle multiple labels\n",
        "model = Pipeline(steps=[\n",
        "    ('preprocessor', preprocessor),\n",
        "    ('classifier', MultiOutputClassifier(RandomForestClassifier(random_state=42)))\n",
        "])\n"
      ],
      "metadata": {
        "id": "QZ91A2SHb0tx"
      },
      "execution_count": 8,
      "outputs": []
    },
    {
      "cell_type": "code",
      "source": [
        "# Step 6: Train the Model\n",
        "model.fit(X_train, y_train)\n",
        "\n",
        "# Step 7: Evaluate the Model\n",
        "y_pred = model.predict_proba(X_val)\n",
        "y_pred_df = pd.DataFrame({\n",
        "    'xyz_vaccine': [pred[1] for pred in y_pred[0]],\n",
        "    'seasonal_vaccine': [pred[1] for pred in y_pred[1]]\n",
        "})\n",
        "roc_auc_xyz = roc_auc_score(y_val['xyz_vaccine'], y_pred_df['xyz_vaccine'])\n",
        "roc_auc_seasonal = roc_auc_score(y_val['seasonal_vaccine'], y_pred_df['seasonal_vaccine'])\n",
        "mean_roc_auc = (roc_auc_xyz + roc_auc_seasonal) / 2\n",
        "print(f'ROC AUC for xyz_vaccine: {roc_auc_xyz}')\n",
        "print(f'ROC AUC for seasonal_vaccine: {roc_auc_seasonal}')\n",
        "print(f'Mean ROC AUC: {mean_roc_auc}')"
      ],
      "metadata": {
        "colab": {
          "base_uri": "https://localhost:8080/"
        },
        "id": "q3yuHnMLb235",
        "outputId": "2d4eabe9-091a-44d4-c0e0-1710bc8bd799"
      },
      "execution_count": 9,
      "outputs": [
        {
          "output_type": "stream",
          "name": "stdout",
          "text": [
            "ROC AUC for xyz_vaccine: 0.864173999277244\n",
            "ROC AUC for seasonal_vaccine: 0.8570519011081396\n",
            "Mean ROC AUC: 0.8606129501926918\n"
          ]
        }
      ]
    },
    {
      "cell_type": "code",
      "source": [
        "final_predictions = model.predict_proba(test_features.drop(columns=['respondent_id']))\n",
        "\n",
        "submission_df = pd.DataFrame({\n",
        "    'respondent_id': submission_format['respondent_id'],\n",
        "    'xyz_vaccine': [pred[1] for pred in final_predictions[0]],\n",
        "    'seasonal_vaccine': [pred[1] for pred in final_predictions[1]]\n",
        "})\n",
        "\n",
        "submission_df.to_csv('submission.csv', index=False)\n",
        "\n",
        "# Directly download the submission file\n",
        "files.download('submission.csv')\n",
        "print(\"Submission file saved and downloaded as submission.csv\")"
      ],
      "metadata": {
        "colab": {
          "base_uri": "https://localhost:8080/",
          "height": 34
        },
        "id": "_P-Nk2NYb6Fn",
        "outputId": "bff1dad1-0930-41a5-e0f2-2f017ac487c4"
      },
      "execution_count": 11,
      "outputs": [
        {
          "output_type": "display_data",
          "data": {
            "text/plain": [
              "<IPython.core.display.Javascript object>"
            ],
            "application/javascript": [
              "\n",
              "    async function download(id, filename, size) {\n",
              "      if (!google.colab.kernel.accessAllowed) {\n",
              "        return;\n",
              "      }\n",
              "      const div = document.createElement('div');\n",
              "      const label = document.createElement('label');\n",
              "      label.textContent = `Downloading \"${filename}\": `;\n",
              "      div.appendChild(label);\n",
              "      const progress = document.createElement('progress');\n",
              "      progress.max = size;\n",
              "      div.appendChild(progress);\n",
              "      document.body.appendChild(div);\n",
              "\n",
              "      const buffers = [];\n",
              "      let downloaded = 0;\n",
              "\n",
              "      const channel = await google.colab.kernel.comms.open(id);\n",
              "      // Send a message to notify the kernel that we're ready.\n",
              "      channel.send({})\n",
              "\n",
              "      for await (const message of channel.messages) {\n",
              "        // Send a message to notify the kernel that we're ready.\n",
              "        channel.send({})\n",
              "        if (message.buffers) {\n",
              "          for (const buffer of message.buffers) {\n",
              "            buffers.push(buffer);\n",
              "            downloaded += buffer.byteLength;\n",
              "            progress.value = downloaded;\n",
              "          }\n",
              "        }\n",
              "      }\n",
              "      const blob = new Blob(buffers, {type: 'application/binary'});\n",
              "      const a = document.createElement('a');\n",
              "      a.href = window.URL.createObjectURL(blob);\n",
              "      a.download = filename;\n",
              "      div.appendChild(a);\n",
              "      a.click();\n",
              "      div.remove();\n",
              "    }\n",
              "  "
            ]
          },
          "metadata": {}
        },
        {
          "output_type": "display_data",
          "data": {
            "text/plain": [
              "<IPython.core.display.Javascript object>"
            ],
            "application/javascript": [
              "download(\"download_cd4077cf-afd0-4264-b3d3-70ad13fefd93\", \"submission.csv\", 422182)"
            ]
          },
          "metadata": {}
        },
        {
          "output_type": "stream",
          "name": "stdout",
          "text": [
            "Submission file saved and downloaded as submission.csv\n"
          ]
        }
      ]
    }
  ]
}